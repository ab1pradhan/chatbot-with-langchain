{
 "cells": [
  {
   "cell_type": "code",
   "execution_count": 1,
   "id": "228adc83",
   "metadata": {},
   "outputs": [],
   "source": [
    "from agents import Agent, WebSearchTool, trace, Runner, gen_trace_id, function_tool\n",
    "from agents.model_settings import ModelSettings\n",
    "from pydantic import BaseModel, Field\n",
    "from dotenv import load_dotenv\n",
    "import asyncio\n",
    "import sendgrid\n",
    "import os\n",
    "from sendgrid.helpers.mail import Mail, Email, To, Content\n",
    "from typing import Dict\n",
    "from IPython.display import display, Markdown"
   ]
  },
  {
   "cell_type": "code",
   "execution_count": 2,
   "id": "a1d7a82e",
   "metadata": {},
   "outputs": [
    {
     "data": {
      "text/plain": [
       "True"
      ]
     },
     "execution_count": 2,
     "metadata": {},
     "output_type": "execute_result"
    }
   ],
   "source": [
    "load_dotenv(override=True)\n"
   ]
  },
  {
   "cell_type": "code",
   "execution_count": 3,
   "id": "0d01d875",
   "metadata": {},
   "outputs": [],
   "source": [
    "INSTRUCTIONS = \"You are a research assistant. Given a search term, you search the web for that term and \\\n",
    "produce a concise summary of the results. The summary must 2-3 paragraphs and less than 300 \\\n",
    "words. Capture the main points. Write succintly, no need to have complete sentences or good \\\n",
    "grammar. This will be consumed by someone synthesizing a report, so it's vital you capture the \\\n",
    "essence and ignore any fluff. Do not include any additional commentary other than the summary itself.\"\n",
    "\n",
    "search_agent = Agent(\n",
    "    name=\"Search agent\",\n",
    "    instructions=INSTRUCTIONS,\n",
    "    tools=[WebSearchTool(search_context_size=\"low\")],\n",
    "    model=\"gpt-4o-mini\",\n",
    "    model_settings=ModelSettings(tool_choice=\"required\"),\n",
    ")"
   ]
  },
  {
   "cell_type": "code",
   "execution_count": 4,
   "id": "01fd6876",
   "metadata": {},
   "outputs": [
    {
     "data": {
      "text/markdown": [
       "In 2025, several AI agent frameworks have emerged, each offering unique capabilities for developing intelligent, autonomous systems. LangChain stands out with its modular design, enabling developers to integrate various components seamlessly. It supports the creation of complex workflows by chaining together different models and data sources, facilitating sophisticated and context-aware interactions. LangChain's extensive support for third-party integrations, from cloud providers to search engines, makes it highly adaptable to a wide range of applications such as conversational agents, document analysis, and code generation. ([dev.to](https://dev.to/surgedatalab/best-5-frameworks-for-agentic-ai-in-2025-enabling-next-gen-intelligent-multi-agent-systems-40ce?utm_source=openai))\n",
       "\n",
       "Another notable framework is LangGraph, an extension of LangChain that introduces a graph-based system for managing the flow of data between agents. This approach is particularly useful for applications where decisions can loop or change paths depending on new input. LangGraph offers agent orchestration using graph-based logic, support for branching, looping, and conditional flows, and built-in support for asynchronous task execution. It is ideal for designing systems that mimic human decision-making in areas like loan processing, insurance claims, or workflow automation. ([phyniks.com](https://phyniks.com/blog/top-7-agentic-ai-frameworks-in-2025?utm_source=openai))\n",
       "\n",
       "AutoGen, developed by Microsoft, specializes in orchestrating multiple AI agents to form autonomous, event-driven systems capable of handling complex, multi-agent tasks seamlessly. It provides a conversation-based coordination framework, built-in agents, and easy prototyping tools. AutoGen is compatible with OpenAI and Azure OpenAI endpoints, making it suitable for enterprise-level applications needing event-driven workflows, such as customer service automation. ([linkedin.com](https://www.linkedin.com/pulse/ai-agent-frameworks-june-2025-comprehensive-overview-chadi-abi-fadel-wcu5c?utm_source=openai))\n",
       "\n",
       "CrewAI adopts a role-based agent collaboration approach, facilitating the creation of specialized agents that collaborate on complex projects akin to a team environment. It offers dynamic task planning, real-time performance monitoring, and orchestration of a variety of agents as distinct workers. CrewAI is ideal for complex projects requiring teamwork among agents, suitable for scenarios like software development or project management. ([linkedin.com](https://www.linkedin.com/pulse/ai-agent-frameworks-june-2025-comprehensive-overview-chadi-abi-fadel-wcu5c?utm_source=openai))\n",
       "\n",
       "Additionally, Amazon Web Services (AWS) introduced Amazon Bedrock AgentCore, a platform designed to simplify the development and deployment of advanced AI agents. AgentCore includes modular services such as AgentCore Runtime for scalable serverless deployment, AgentCore Memory for context management, and AgentCore Identity for secure service access. This suite aims to streamline the adoption and production deployment of AI agents, marking a significant shift in how software interacts with the real world. ([techradar.com](https://www.techradar.com/pro/aws-looks-to-super-charge-ai-agents-with-amazon-bedrock-agentcore?utm_source=openai))\n",
       "\n",
       "These frameworks represent the forefront of AI agent development in 2025, each contributing to the evolution of intelligent, autonomous systems across various industries. "
      ],
      "text/plain": [
       "<IPython.core.display.Markdown object>"
      ]
     },
     "metadata": {},
     "output_type": "display_data"
    }
   ],
   "source": [
    "message = \"Latest AI Agent frameworks in 2025\"\n",
    "\n",
    "with trace(\"Search\"):\n",
    "    result = await Runner.run(search_agent, message)\n",
    "\n",
    "display(Markdown(result.final_output))"
   ]
  },
  {
   "cell_type": "code",
   "execution_count": 9,
   "id": "50f54224",
   "metadata": {},
   "outputs": [],
   "source": [
    "# Websearch tool has gigher cost 25$ for 1000 searches.\n",
    "HOW_MANY_SEARCHES = 1\n",
    "\n",
    "INSTRUCTIONS = f\"You are a helpful research assistant. Given a query, come up with a set of web searches \\\n",
    "to perform to best answer the query. Output {HOW_MANY_SEARCHES} terms to query for.\"\n",
    "\n",
    "# Use Pydantic to define the Schema of our response - this is known as \"Structured Outputs\"\n",
    "# With massive thanks to student Wes C. for discovering and fixing a nasty bug with this!\n",
    "\n",
    "class WebSearchItem(BaseModel):\n",
    "    reason: str = Field(description=\"Your reasoning for why this search is important to the query.\")\n",
    "\n",
    "    query: str = Field(description=\"The search term to use for the web search.\")\n",
    "\n",
    "\n",
    "class WebSearchPlan(BaseModel):\n",
    "    searches: list[WebSearchItem] = Field(description=\"A list of web searches to perform to best answer the query.\")\n",
    "\n",
    "\n",
    "planner_agent = Agent(\n",
    "    name=\"PlannerAgent\",\n",
    "    instructions=INSTRUCTIONS,\n",
    "    model=\"gpt-4o-mini\",\n",
    "    output_type=WebSearchPlan,\n",
    ")"
   ]
  },
  {
   "cell_type": "code",
   "execution_count": 10,
   "id": "7ad201ae",
   "metadata": {},
   "outputs": [
    {
     "name": "stdout",
     "output_type": "stream",
     "text": [
      "searches=[WebSearchItem(reason='To gather the most up-to-date information on AI agent frameworks that are emerging or being developed in 2025.', query='latest AI agent frameworks 2025')]\n"
     ]
    }
   ],
   "source": [
    "message = \"Latest AI Agent frameworks in 2025\"\n",
    "\n",
    "with trace(\"Search\"):\n",
    "    result = await Runner.run(planner_agent, message)\n",
    "    print(result.final_output)\n",
    "\n",
    "\n"
   ]
  },
  {
   "cell_type": "code",
   "execution_count": 11,
   "id": "d3418f85",
   "metadata": {},
   "outputs": [],
   "source": [
    "@function_tool\n",
    "def send_email(subject: str, html_body: str) -> Dict[str, str]:\n",
    "    \"\"\" Send out an email with the given subject and HTML body \"\"\"\n",
    "    sg = sendgrid.SendGridAPIClient(api_key=os.environ.get('SENDGRID_API_KEY'))\n",
    "    from_email = Email(\"abhishek@textraja.com\") # Change this to your verified email\n",
    "    to_email = To(\"samikshabagda1996@gmail.com\") # Change this to your email\n",
    "    content = Content(\"text/html\", html_body)\n",
    "    mail = Mail(from_email, to_email, subject, content).get()\n",
    "    response = sg.client.mail.send.post(request_body=mail)\n",
    "    return {\"status\": \"success\"}"
   ]
  },
  {
   "cell_type": "code",
   "execution_count": 12,
   "id": "d62c5be9",
   "metadata": {},
   "outputs": [
    {
     "data": {
      "text/plain": [
       "FunctionTool(name='send_email', description='Send out an email with the given subject and HTML body', params_json_schema={'properties': {'subject': {'title': 'Subject', 'type': 'string'}, 'html_body': {'title': 'Html Body', 'type': 'string'}}, 'required': ['subject', 'html_body'], 'title': 'send_email_args', 'type': 'object', 'additionalProperties': False}, on_invoke_tool=<function function_tool.<locals>._create_function_tool.<locals>._on_invoke_tool at 0x120e17ec0>, strict_json_schema=True, is_enabled=True)"
      ]
     },
     "execution_count": 12,
     "metadata": {},
     "output_type": "execute_result"
    }
   ],
   "source": [
    "send_email"
   ]
  },
  {
   "cell_type": "code",
   "execution_count": 13,
   "id": "3e6e814a",
   "metadata": {},
   "outputs": [],
   "source": [
    "INSTRUCTIONS = \"\"\"You are able to send a nicely formatted HTML email based on a detailed report.\n",
    "You will be provided with a detailed report. You should use your tool to send one email, providing the \n",
    "report converted into clean, well presented HTML with an appropriate subject line.\"\"\"\n",
    "\n",
    "email_agent = Agent(\n",
    "    name=\"Email agent\",\n",
    "    instructions=INSTRUCTIONS,\n",
    "    tools=[send_email],\n",
    "    model=\"gpt-4o-mini\",\n",
    ")\n"
   ]
  },
  {
   "cell_type": "code",
   "execution_count": 16,
   "id": "21f64ecd",
   "metadata": {},
   "outputs": [],
   "source": [
    "INSTRUCTIONS = (\n",
    "    \"You are a senior researcher tasked with writing a cohesive report for a research query. \"\n",
    "    \"You will be provided with the original query, and some initial research done by a research assistant.\\n\"\n",
    "    \"You should first come up with an outline for the report that describes the structure and \"\n",
    "    \"flow of the report. Then, generate the report and return that as your final output.\\n\"\n",
    "    \"The final output should be in markdown format, and it should be lengthy and detailed. Aim \"\n",
    "    \"for 5-10 pages of content, at least 1000 words.\"\n",
    ")\n",
    "\n",
    "\n",
    "class ReportData(BaseModel):\n",
    "    short_summary: str = Field(description=\"A short 2-3 sentence summary of the findings.\")\n",
    "\n",
    "    markdown_report: str = Field(description=\"The final report\")\n",
    "\n",
    "    follow_up_questions: list[str] = Field(description=\"Suggested topics to research further\")\n",
    "\n",
    "\n",
    "writer_agent = Agent(\n",
    "    name=\"WriterAgent\",\n",
    "    instructions=INSTRUCTIONS,\n",
    "    model=\"gpt-4o-mini\",\n",
    "    output_type=ReportData,\n",
    ")"
   ]
  },
  {
   "cell_type": "code",
   "execution_count": 17,
   "id": "a7081d8a",
   "metadata": {},
   "outputs": [],
   "source": [
    "async def plan_searches(query: str):\n",
    "    \"\"\" Use the planner_agent to plan which searches to run for the query \"\"\"\n",
    "    print(\"Planning searches...\")\n",
    "    result = await Runner.run(planner_agent, f\"Query: {query}\")\n",
    "    print(f\"Will perform {len(result.final_output.searches)} searches\")\n",
    "    return result.final_output\n",
    "\n",
    "async def perform_searches(search_plan: WebSearchPlan):\n",
    "    \"\"\" Call search() for each item in the search plan \"\"\"\n",
    "    print(\"Searching...\")\n",
    "    tasks = [asyncio.create_task(search(item)) for item in search_plan.searches]\n",
    "    results = await asyncio.gather(*tasks)\n",
    "    print(\"Finished searching\")\n",
    "    return results\n",
    "\n",
    "async def search(item: WebSearchItem):\n",
    "    \"\"\" Use the search agent to run a web search for each item in the search plan \"\"\"\n",
    "    input = f\"Search term: {item.query}\\nReason for searching: {item.reason}\"\n",
    "    result = await Runner.run(search_agent, input)\n",
    "    return result.final_output\n",
    "\n",
    "async def write_report(query: str, search_results: list[str]):\n",
    "    \"\"\" Use the writer agent to write a report based on the search results\"\"\"\n",
    "    print(\"Thinking about report...\")\n",
    "    input = f\"Original query: {query}\\nSummarized search results: {search_results}\"\n",
    "    result = await Runner.run(writer_agent, input)\n",
    "    print(\"Finished writing report\")\n",
    "    return result.final_output\n",
    "\n",
    "async def send_email(report: ReportData):\n",
    "    \"\"\" Use the email agent to send an email with the report \"\"\"\n",
    "    print(\"Writing email...\")\n",
    "    result = await Runner.run(email_agent, report.markdown_report)\n",
    "    print(\"Email sent\")\n",
    "    return report"
   ]
  },
  {
   "cell_type": "code",
   "execution_count": 19,
   "id": "b1771293",
   "metadata": {},
   "outputs": [
    {
     "name": "stdout",
     "output_type": "stream",
     "text": [
      "Starting research...\n",
      "Planning searches...\n",
      "Will perform 1 searches\n",
      "Searching...\n",
      "Finished searching\n",
      "Thinking about report...\n",
      "Finished writing report\n",
      "Writing email...\n",
      "Email sent\n",
      "done!\n"
     ]
    }
   ],
   "source": [
    "query =\"Latest AI Agent frameworks in 2025\"\n",
    "\n",
    "with trace(\"Research trace\"):\n",
    "    print(\"Starting research...\")\n",
    "    search_plan = await plan_searches(query)\n",
    "    search_results = await perform_searches(search_plan)\n",
    "    report = await write_report(query, search_results)\n",
    "    await send_email(report)  \n",
    "    print(\"done!\")\n"
   ]
  },
  {
   "cell_type": "code",
   "execution_count": 20,
   "id": "69ad6f8d",
   "metadata": {},
   "outputs": [
    {
     "data": {
      "text/plain": [
       "ReportData(short_summary=\"As of 2025, various innovative AI agent frameworks have emerged, significantly enhancing the deployment and functionality of autonomous systems. Key frameworks include Amazon Bedrock AgentCore, OpenAI's ChatGPT Agent, and the Model Context Protocol (MCP), each contributing to improved accessibility, scalability, and interoperability across the AI ecosystem.\", markdown_report=\"# Latest AI Agent Frameworks in 2025\\n\\n## Table of Contents\\n1. Introduction  \\n2. Overview of AI Agent Frameworks  \\n    - 2.1 Amazon Bedrock AgentCore  \\n    - 2.2 OpenAI's ChatGPT Agent  \\n    - 2.3 Model Context Protocol (MCP)  \\n3. Academic Innovations  \\n    - 3.1 AutoAgent  \\n    - 3.2 Eliza  \\n4. Implications of AI Agent Frameworks  \\n5. Conclusion  \\n6. References  \\n\\n---  \\n\\n## 1. Introduction\\nThe paradigm of artificial intelligence (AI) is witnessing rapid advancements, particularly in the development of AI agents that can autonomously execute tasks. By 2025, several frameworks have emerged to facilitate the creation and management of these agents, each contributing unique capabilities and integration features. This report examines the latest AI agent frameworks, highlighting their features, innovations, and implications for users and developers.\\n\\n## 2. Overview of AI Agent Frameworks\\nIn 2025, notable frameworks include Amazon Bedrock AgentCore, OpenAI's ChatGPT Agent, and the Model Context Protocol (MCP). Each of these frameworks introduces specific functionalities designed to enhance agent development, deployment, and interconnectivity.\\n\\n### 2.1 Amazon Bedrock AgentCore\\nAmazon Web Services (AWS) launched the **Amazon Bedrock AgentCore**, a comprehensive platform aimed at simplifying the development and scaling of AI agents. This framework stands out due to its modularity and user-friendly services:\\n- **AgentCore Runtime**: This serverless environment supports dynamic agent deployment without the burden of infrastructure management.\\n- **AgentCore Memory**: A revolutionary feature enabling agents to retain contextual information, which is critical for tasks that require memory of past interactions or decisions.\\n- **AgentCore Identity**: Focused on security, this module ensures that agents can access and utilize various services without compromising user credentials.\\n\\nAdditionally, AWS has introduced a marketplace for AI agents and associated tools, allowing seamless integration of third-party solutions from companies like Anthropic, IBM, and Brave. This marketplace significantly enhances the accessibility of AI technologies for all users, from developers to enterprises.\\n\\n### 2.2 OpenAI's ChatGPT Agent\\nOpenAI has developed the **ChatGPT Agent**, a sophisticated AI capable of autonomously completing complex, multi-step tasks. This AI agent can effectively manage activities such as:\\n- Calendar management, aligning various schedules and deadlines.\\n- Financial presentations, by compiling necessary data and generating insightful presentations.\\n\\nNotably, OpenAI's CEO, Sam Altman, has urged users to exercise caution with the ChatGPT Agent, particularly for high-stakes activities where precise execution is critical. This emphasizes the ongoing need for human supervision in AI tasks, balancing autonomy with accountability.\\n\\n### 2.3 Model Context Protocol (MCP)\\nThe **Model Context Protocol (MCP)** has emerged as a pivotal standard for AI tool connectivity. Adopted formally by OpenAI in March 2025, MCP facilitates the integration of diverse AI systems with varying data sources, enhancing interoperability among agents. This universal standard has gained traction within major organizations, suggesting its potential to become a mainstay in the evolving AI agent ecosystem.\\n\\n## 3. Academic Innovations\\nParallel to commercial frameworks, academia has made significant strides in developing novel AI agent systems.\\n\\n### 3.1 AutoAgent\\n**AutoAgent** represents a groundbreaking approach to AI development, providing a completely automated, zero-code framework for Large Language Model (LLM) agents. This tool empowers users without technical backgrounds to design and deploy their own agents via natural language input, thereby democratizing access to AI.\\n\\n### 3.2 Eliza\\nAnother innovative framework, **Eliza**, operates as a Web3-friendly AI agent operating system. This system integrates AI capabilities with blockchain applications, allowing for the deployment of decentralized agents operated through distributed networks. The ability to intertwine AI with blockchain technology heralds a significant shift in how agents can interact and process information.\\n\\n## 4. Implications of AI Agent Frameworks\\nThe emergence of these innovative frameworks demonstrates a substantial shift in the capabilities and accessibility of AI agents. As these frameworks become commonplace, several implications arise:\\n- **Accessibility**: With tools like AutoAgent, even non-technical users can engage with AI technology, fostering a wider user base.\\n- **Scalability**: Platforms like Amazon Bedrock enable the rapid development and scaling of AI applications, crucial for businesses looking to harness AI's potential efficiently.\\n- **Interoperability**: The adoption of standards such as MCP is vital for ensuring that different AI systems can work together seamlessly, enhancing collaboration across various platforms and industries.\\n\\n## 5. Conclusion\\nIn conclusion, the advancements in AI agent frameworks by 2025 illustrate a significant evolution towards greater accessibility, scalability, and interoperability. As key players like AWS and OpenAI lead the charge in developing comprehensive solutions, the future of AI agents appears promising, with the potential to empower users across diverse industries.\\n\\n## 6. References  \\n- [TechRadar: AWS looks to super-charge AI agents with Amazon Bedrock AgentCore](https://www.techradar.com/pro/aws-looks-to-super-charge-ai-agents-with-amazon-bedrock-agentcore?utm_source=openai)  \\n- [ITPro: Three of the biggest announcements from AWS Summit](https://www.itpro.com/cloud/cloud-computing/three-of-the-biggest-announcements-from-aws-summit-new-york?utm_source=openai)  \\n- [PC Gamer: OpenAI just launched its new ChatGPT Agent](https://www.pcgamer.com/software/ai/openai-just-launched-its-new-chatgpt-agent-that-can-make-as-many-as-1-complicated-cupcake-order-per-hour-but-even-sam-altman-says-you-probably-shouldnt-trust-it-for-high-stakes-uses/?utm_source=openai)  \\n- [Wikipedia: Model Context Protocol](https://en.wikipedia.org/wiki/Model_Context_Protocol?utm_source=openai)  \\n- [arXiv: AutoAgent Development](https://arxiv.org/abs/2502.05957?utm_source=openai)  \\n- [arXiv: Eliza and Web3 Integration](https://arxiv.org/abs/2501.06781?utm_source=openai)  \\n\", follow_up_questions=['What are the ethical considerations of using AI agents in critical decision-making?', 'How do these frameworks impact the job market for AI developers?', 'What industries are most likely to adopt these AI frameworks in the next few years?', 'What security measures are in place for these AI frameworks?', 'What are the user experiences and feedback regarding the functionality of these AI agents?'])"
      ]
     },
     "execution_count": 20,
     "metadata": {},
     "output_type": "execute_result"
    }
   ],
   "source": [
    "report"
   ]
  },
  {
   "cell_type": "code",
   "execution_count": null,
   "id": "e7ad8d0d",
   "metadata": {},
   "outputs": [],
   "source": []
  }
 ],
 "metadata": {
  "kernelspec": {
   "display_name": "udemyllms",
   "language": "python",
   "name": "python3"
  },
  "language_info": {
   "codemirror_mode": {
    "name": "ipython",
    "version": 3
   },
   "file_extension": ".py",
   "mimetype": "text/x-python",
   "name": "python",
   "nbconvert_exporter": "python",
   "pygments_lexer": "ipython3",
   "version": "3.11.13"
  }
 },
 "nbformat": 4,
 "nbformat_minor": 5
}
