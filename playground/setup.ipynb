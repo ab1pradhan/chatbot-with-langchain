{
 "cells": [
  {
   "cell_type": "markdown",
   "id": "f52a1879",
   "metadata": {},
   "source": [
    "# Notes\n",
    "\n",
    "####  FLUX-1 model requires A100 to run\n",
    "\n"
   ]
  },
  {
   "cell_type": "code",
   "execution_count": null,
   "id": "5edff2d8",
   "metadata": {},
   "outputs": [],
   "source": [
    "# Installation\n",
    "\n",
    "# !pip install -q diffusers transformers accelerate bitsandbytes datasets fsspec==2023.9.2"
   ]
  },
  {
   "cell_type": "code",
   "execution_count": null,
   "id": "7d5b71d5",
   "metadata": {},
   "outputs": [],
   "source": [
    "b = \"\"\"\n",
    "print(\"Setup complete. You can now run the chatbot with LangChain.\")\n",
    "\"\"\""
   ]
  },
  {
   "cell_type": "code",
   "execution_count": 2,
   "id": "a3547379",
   "metadata": {},
   "outputs": [
    {
     "name": "stdout",
     "output_type": "stream",
     "text": [
      "Setup complete. You can now run the chatbot with LangChain.\n"
     ]
    }
   ],
   "source": [
    "exec(b)"
   ]
  },
  {
   "cell_type": "code",
   "execution_count": null,
   "id": "d3e9b5b7",
   "metadata": {},
   "outputs": [],
   "source": []
  },
  {
   "cell_type": "code",
   "execution_count": null,
   "id": "23f0b6e9",
   "metadata": {},
   "outputs": [],
   "source": []
  },
  {
   "cell_type": "code",
   "execution_count": 21,
   "id": "6097ce8a",
   "metadata": {},
   "outputs": [],
   "source": [
    "import modal"
   ]
  },
  {
   "cell_type": "code",
   "execution_count": 1,
   "id": "7647943b",
   "metadata": {},
   "outputs": [],
   "source": [
    "#!modal setup"
   ]
  },
  {
   "cell_type": "code",
   "execution_count": null,
   "id": "1ce819dc",
   "metadata": {},
   "outputs": [
    {
     "data": {
      "text/plain": [
       "''"
      ]
     },
     "execution_count": 5,
     "metadata": {},
     "output_type": "execute_result"
    }
   ],
   "source": [
    "\"\"\"\n",
    "The web browser should have opened for you to authenticate and get an API token.\n",
    "If it didn't, please copy this URL into your web browser manually:\n",
    "\n",
    "\u001b]8;id=759624;https://modal.com/token-flow/tf-OyCZKU8Ys5nunZjiumqmyC\u001b\\https://modal.com/token-flow/tf-OyCZKU8Ys5nunZjiumqmyC\u001b]8;;\u001b\\\n",
    "\n",
    "⠹ Waiting for authentication in the web browser\n",
    "⠼ Waiting for token flow to complete...omplete...\n",
    "Web authentication finished successfully!\n",
    "Token is connected to the abhi-alkane workspace.\n",
    "Verifying token against https://api.modal.com\n",
    "Token verified successfully!\n",
    "⠋ Storing token\n",
    "Token written to /Users/oasis/.modal.toml in profile abhi-alkane.\n",
    "\n",
    "\n",
    "\"\"\""
   ]
  },
  {
   "cell_type": "code",
   "execution_count": null,
   "id": "e5c67879",
   "metadata": {},
   "outputs": [],
   "source": [
    "# import modal\n",
    "# from modal import App, Image\n",
    "\n",
    "# # Setup\n",
    "\n",
    "# app = modal.App(\"hello\")\n",
    "# image = Image.debian_slim().pip_install(\"requests\")\n",
    "\n",
    "# # Hello!\n",
    "\n",
    "# @app.function(image=image)\n",
    "# def hello() -> str:\n",
    "#     import requests\n",
    "    \n",
    "#     response = requests.get('https://ipinfo.io/json')\n",
    "#     data = response.json()\n",
    "#     city, region, country = data['city'], data['region'], data['country']\n",
    "#     return f\"Hello from {city}, {region}, {country}!!\"\n",
    "\n",
    "# # New - added thanks to student Tue H.!"
   ]
  },
  {
   "cell_type": "code",
   "execution_count": 1,
   "id": "22dd331b",
   "metadata": {},
   "outputs": [],
   "source": [
    "from get_started import app, hello"
   ]
  },
  {
   "cell_type": "code",
   "execution_count": 2,
   "id": "af920fd0",
   "metadata": {},
   "outputs": [],
   "source": [
    "with app.run():\n",
    "    reply = hello.local()\n"
   ]
  },
  {
   "cell_type": "code",
   "execution_count": 4,
   "id": "21b59b1e",
   "metadata": {},
   "outputs": [
    {
     "data": {
      "text/plain": [
       "'Hello from Washington, Virginia, US!!'"
      ]
     },
     "execution_count": 4,
     "metadata": {},
     "output_type": "execute_result"
    }
   ],
   "source": [
    "with app.run():\n",
    "    reply = hello.remote()\n",
    "\n",
    "reply"
   ]
  },
  {
   "cell_type": "code",
   "execution_count": null,
   "id": "99071101",
   "metadata": {},
   "outputs": [],
   "source": []
  }
 ],
 "metadata": {
  "kernelspec": {
   "display_name": "udemyllms",
   "language": "python",
   "name": "python3"
  },
  "language_info": {
   "codemirror_mode": {
    "name": "ipython",
    "version": 3
   },
   "file_extension": ".py",
   "mimetype": "text/x-python",
   "name": "python",
   "nbconvert_exporter": "python",
   "pygments_lexer": "ipython3",
   "version": "3.11.13"
  }
 },
 "nbformat": 4,
 "nbformat_minor": 5
}
